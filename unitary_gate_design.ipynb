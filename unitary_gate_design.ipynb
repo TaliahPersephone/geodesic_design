{
 "cells": [
  {
   "cell_type": "code",
   "execution_count": 14,
   "id": "07559d79",
   "metadata": {},
   "outputs": [],
   "source": [
    "import numpy as np\n",
    "import cvxpy as cp\n",
    "import itertools as it\n",
    "import scipy.linalg as spla\n",
    "import matplotlib.pyplot as plt\n",
    "import pennylane as qml"
   ]
  },
  {
   "cell_type": "markdown",
   "id": "5c4c193c",
   "metadata": {},
   "source": [
    "Basic functions and utils"
   ]
  },
  {
   "cell_type": "code",
   "execution_count": 15,
   "id": "ab9fa088",
   "metadata": {},
   "outputs": [],
   "source": [
    "def pauli_basis(n):\n",
    "    I = np.eye(2).astype(complex)\n",
    "    X = np.array([[0, 1], [1, 0]], complex)\n",
    "    Y = np.array([[0, -1j], [1j, 0]], complex)\n",
    "    Z = np.array([[1, 0], [0, -1]], complex)\n",
    "    basis = {\n",
    "        \"labels\": [],\n",
    "    }\n",
    "    b = []\n",
    "    for comb in list(it.product([0, 1, 2, 3], repeat=n))[1:]:\n",
    "        p = 1.\n",
    "        basis[\"labels\"].append(comb)\n",
    "        for c in comb:\n",
    "            if c == 0:\n",
    "                p = np.kron(p, I)\n",
    "            elif c == 1:\n",
    "                p = np.kron(p, X)\n",
    "            elif c == 2:\n",
    "                p = np.kron(p, Y)\n",
    "            elif c == 3:\n",
    "                p = np.kron(p, Z)\n",
    "        b.append(p)\n",
    "    basis[\"basis\"] = np.stack(b)\n",
    "    return basis\n",
    "\n",
    "def two_body_projection_indices(basis):\n",
    "    basis_indices = []\n",
    "    for i, b in enumerate(basis[\"labels\"]):\n",
    "        if len(np.nonzero(b)[0]) <= 2:\n",
    "            basis_indices.append(1)\n",
    "        else:\n",
    "            basis_indices.append(0)\n",
    "    return basis_indices\n",
    "\n",
    "def two_body_projection(theta, basis):\n",
    "    indices = two_body_projection_indices(basis)\n",
    "    return np.array([t * indices[i] for i,t in enumerate(theta)])\n",
    "    \n",
    "def two_body_restriction_basis(basis):\n",
    "    new_basis = {\n",
    "        \"labels\": [],\n",
    "    }\n",
    "    basis_elements = []\n",
    "    for i, b in enumerate(basis[\"labels\"]):\n",
    "        if len(np.nonzero(b)[0]) <= 2:\n",
    "            new_basis[\"labels\"].append(b)\n",
    "            basis_elements.append(np.array(basis[\"basis\"][i]))\n",
    "    new_basis[\"basis\"] = np.stack(basis_elements)\n",
    "    return new_basis\n",
    "\n",
    "def specific_basis_terms(basis, specific_labels, ts):\n",
    "    theta = []\n",
    "    for l in basis[\"labels\"]:\n",
    "        if l in specific_labels:\n",
    "            theta.append(ts[specific_labels.index(l)])\n",
    "        else:\n",
    "            theta.append(0)\n",
    "    return np.array(theta)\n",
    "    \n",
    "def hamiltonian_from_parameters(parameters, basis):\n",
    "    return np.einsum(\"ijk,i->jk\", basis, parameters)\n",
    "\n",
    "def unitary_from_parameters(parameters, basis):\n",
    "    h = hamiltonian_from_parameters(parameters, basis)\n",
    "    return spla.expm(1.j*h)\n",
    "\n",
    "def parameters_from_hamiltonian(hamiltonian, basis):\n",
    "    return np.real(np.einsum(\"ijk, kj->i\", basis, hamiltonian)) / (len(hamiltonian[0]))\n",
    "\n",
    "def unitary_fidelity(U1, U2):\n",
    "    return np.abs(np.trace(U1.conj().T @ U2))/len(U1[0])\n",
    "\n",
    "def phi_fidelity(phi, phi_basis, U2):\n",
    "    phi_H = hamiltonian_from_parameters(phi, phi_basis)\n",
    "    phi_U = spla.expm(1.j * phi_H)\n",
    "    return unitary_fidelity(phi_U, U2)\n",
    "\n",
    "def geodesic_ham(U, V):\n",
    "    gamma = -1.j * spla.logm(V @ U.conj().T)\n",
    "    return gamma\n",
    "\n",
    "def plot_parameters(labels, parameters, title=False, figsize=[14,6]):\n",
    "    labels = [\"\".join(map(str, l)) for l in labels]\n",
    "    fig, ax = plt.subplots(figsize=figsize)\n",
    "    ax.bar(labels,parameters)\n",
    "    ax.grid()\n",
    "    if title:\n",
    "        plt.title(title)\n",
    "    plt.xticks(rotation=90)\n",
    "    plt.show()\n",
    "    \n",
    "def plot_fidelities(steps, fidelities, title=False):\n",
    "    fig, ax = plt.subplots(figsize=[12,6])\n",
    "    ax.plot(steps, fidelities)\n",
    "    if title:\n",
    "        plt.title(title)\n",
    "    plt.show()\n",
    "    \n",
    "def plot_multi_fidelities(multi_steps, multi_fidelities, title=False):\n",
    "    fig, ax = plt.subplots(figsize=[12,6])\n",
    "    for i, fidelities in enumerate(multi_fidelities):\n",
    "        fid = [1 - f for f in fidelities] \n",
    "        ax.plot(multi_steps[i], fid)\n",
    "    if title:\n",
    "        plt.title(title)\n",
    "    ax.set_yscale('log')\n",
    "    ax.set_xlabel(\"Step\")\n",
    "    ax.set_ylabel(\"1 - fidelity\")\n",
    "    plt.show()\n",
    "    \n",
    "def plot_direction_indices(indices, title=False):\n",
    "    plt.hist(indices, bins=len(indices))\n",
    "    if title:\n",
    "        plt.title(title)\n",
    "    plt.show()"
   ]
  },
  {
   "cell_type": "markdown",
   "id": "38b84dbd",
   "metadata": {},
   "source": [
    "Step size map, convex optimisation for linear combination of omegas, and constructing new phi vectors"
   ]
  },
  {
   "cell_type": "code",
   "execution_count": 21,
   "id": "51713c53",
   "metadata": {},
   "outputs": [],
   "source": [
    "def step_size_map(fid):\n",
    "    return (1-fid**2)/2 + 0.001\n",
    "\n",
    "def linear_combination_coeffs(combination_vectors, target_vector):\n",
    "    x = cp.Variable(combination_vectors.shape[0])\n",
    "    cost = cp.sum_squares(combination_vectors.T @ x - target_vector)\n",
    "    prob = cp.Problem(cp.Minimize(cost))\n",
    "    prob.solve()\n",
    "    return x.value\n",
    "\n",
    "def construct_new_phi(phi, phi_basis, index, target_V, step_size):\n",
    "    delta_phi = np.zeros(len(phi))\n",
    "    delta_phi[index] = step_size\n",
    "    new_phi_minus = phi - delta_phi\n",
    "    new_phi_plus = phi + delta_phi\n",
    "    if phi_fidelity(new_phi_minus, phi_basis[\"basis\"], target_V) > phi_fidelity(new_phi_plus, phi_basis[\"basis\"], target_V):\n",
    "        new_phi = new_phi_minus\n",
    "    else:\n",
    "        new_phi = new_phi_plus\n",
    "    return new_phi\n",
    "\n",
    "def construct_new_phi_full(phi, phi_basis, delta_phi, target_V, step_size):\n",
    "    delta_phi = step_size * delta_phi\n",
    "    new_phi_minus = phi - delta_phi\n",
    "    new_phi_plus = phi + delta_phi\n",
    "    if phi_fidelity(new_phi_minus, phi_basis[\"basis\"], target_V) > phi_fidelity(new_phi_plus, phi_basis[\"basis\"], target_V):\n",
    "        new_phi = new_phi_minus\n",
    "    else:\n",
    "        new_phi = new_phi_plus\n",
    "    return new_phi"
   ]
  },
  {
   "cell_type": "markdown",
   "id": "3c232ae6",
   "metadata": {},
   "source": [
    "Parameter update function"
   ]
  },
  {
   "cell_type": "code",
   "execution_count": 22,
   "id": "5f0680b2",
   "metadata": {},
   "outputs": [],
   "source": [
    "def geodesic_direction_update_step(target_V, phi, phi_basis, step_size=0.01, precision=0.9999, step_count=(None,None)):\n",
    "    # Step 0: find the unitary from phi\n",
    "    phi_H = hamiltonian_from_parameters(phi, phi_basis[\"basis\"])\n",
    "    phi_U = spla.expm(1.j * phi_H)\n",
    "    \n",
    "    # Step 1: find the geodesic between phi_U and target_V\n",
    "    gamma = geodesic_ham(phi_U, target_V)\n",
    "    gamma_phi = parameters_from_hamiltonian(gamma, phi_basis[\"basis\"])\n",
    "    \n",
    "    # Step 2: find the Omegas\n",
    "    su = qml.SpecialUnitary(phi, [i for i in range(nqubits)])\n",
    "    omegas = su.get_one_parameter_generators(interface=\"jax\")\n",
    "    omega_phis = np.array([parameters_from_hamiltonian(omega, phi_basis[\"basis\"]) for omega in omegas])\n",
    "\n",
    "    # Step 3: find the Omega index that is closest to the geodesic gamma with the two-body restriction\n",
    "    inner_products = []\n",
    "    projected_indices = two_body_projection_indices(phi_basis)\n",
    "    for i, omega in enumerate(omegas):\n",
    "        if projected_indices[i]:\n",
    "            inner_products.append(unitary_fidelity(omega, gamma))\n",
    "        else:\n",
    "            inner_products.append(0)\n",
    "    inner_products = np.array(inner_products)\n",
    "    args_sorted = np.flip(np.argsort(inner_products))\n",
    "\n",
    "    # Step 4: Find a linear combination of Omegas that gives the geodesic and update parameters\n",
    "    coeffs = linear_combination_coeffs(omega_phis, gamma_phi)\n",
    "    if coeffs is None:\n",
    "        print(f\"[{step_count[0]}/{step_count[1]}] Didn't find coefficients for Omega direction; giving it a push in random direction.\", end='\\r')\n",
    "        new_phi = two_body_projection(np.array(phi) + (step_size * np.random.rand(len(phi_basis[\"basis\"])) - 1/2), phi_basis)\n",
    "        omega_ind = 1\n",
    "    else:\n",
    "        proj_coeffs = np.multiply(projected_indices, coeffs)\n",
    "        proj_normed_coeffs = proj_coeffs / np.sqrt(np.dot(proj_coeffs, proj_coeffs))\n",
    "\n",
    "        # Apply a small push in the right direction to give a new phi\n",
    "        new_phi = construct_new_phi_full(phi, phi_basis, proj_normed_coeffs, target_V, step_size)\n",
    "        fidelity_phi = phi_fidelity(phi, phi_basis[\"basis\"], target_V)\n",
    "        fidelity_new_phi = phi_fidelity(new_phi, phi_basis[\"basis\"], target_V)\n",
    "\n",
    "        omega_ind = 0\n",
    "        if phi_fidelity(new_phi, phi_basis[\"basis\"], target_V) > precision:\n",
    "            print(f\"\\n[{step_count[0]}/{step_count[1]}] Solution found!\")\n",
    "        elif (not np.isclose(fidelity_phi, fidelity_new_phi)) and (fidelity_new_phi > fidelity_phi):\n",
    "            pass\n",
    "        else:\n",
    "            print(f\"[{step_count[0]}/{step_count[1]}] [Fidelity = {fidelity_phi}] Omega geodesic gave a negative fidelity update for this step.\", end='\\r')\n",
    "            omega_ind = 1\n",
    "    \n",
    "    return new_phi, omega_ind"
   ]
  },
  {
   "cell_type": "markdown",
   "id": "3e9057fa",
   "metadata": {},
   "source": [
    "Update step management "
   ]
  },
  {
   "cell_type": "code",
   "execution_count": 23,
   "id": "b6522b07",
   "metadata": {},
   "outputs": [],
   "source": [
    "def rand_init_fidelities(target_V, basis, num_steps, step_size, update_func=geodesic_direction_update_step, precision=0.9999):\n",
    "    # Initialise a random phi starting point and compute its fidelity\n",
    "    phis = [two_body_projection(np.random.rand(len(basis[\"basis\"])), basis)]\n",
    "    fidelities = [phi_fidelity(phis[0], basis[\"basis\"], target_V)]\n",
    "    \n",
    "    # Perform num_steps geodesic updates of size step_size\n",
    "    steps = list(range(num_steps+1))\n",
    "    indices = []\n",
    "    for step in steps[1:]:\n",
    "        step_size = step_size_map(fidelities[-1])\n",
    "        new_phi, index = update_func(target_V, phis[-1], basis, step_size=step_size, precision=precision, step_count=(step,num_steps))\n",
    "        indices.append(index)\n",
    "        fidelities.append(phi_fidelity(new_phi, basis[\"basis\"], target_V))\n",
    "        phis.append(new_phi)\n",
    "        if phi_fidelity(new_phi, basis[\"basis\"], target_V) > precision:\n",
    "            break\n",
    "    return steps[:len(fidelities)], fidelities, phis, indices"
   ]
  },
  {
   "cell_type": "markdown",
   "id": "0168f096",
   "metadata": {},
   "source": [
    "Some gates"
   ]
  },
  {
   "cell_type": "code",
   "execution_count": 24,
   "id": "746d97ac",
   "metadata": {},
   "outputs": [],
   "source": [
    "Vtoff = np.array([[1,0,0,0,0,0,0,0],\n",
    "                  [0,1,0,0,0,0,0,0],\n",
    "                  [0,0,1,0,0,0,0,0],\n",
    "                  [0,0,0,1,0,0,0,0],\n",
    "                  [0,0,0,0,1,0,0,0],\n",
    "                  [0,0,0,0,0,1,0,0],\n",
    "                  [0,0,0,0,0,0,0,1],\n",
    "                  [0,0,0,0,0,0,1,0]])\n",
    "\n",
    "w = np.exp(1.j * 2 * np.pi / 8)\n",
    "Vqft = np.array([[1,1,1,1,1,1,1,1],\n",
    "                 [1, w, w**2, w**3, w**4, w**5, w**6, w**7],\n",
    "                 [1, w**2, w**4, w**6, w**8, w**10, w**12, w**14],\n",
    "                 [1, w**3, w**6, w**9, w**12, w**15, w**18, w**21],\n",
    "                 [1, w**4, w**8, w**12, w**16, w**20, w**24, w**28],\n",
    "                 [1, w**5, w**10, w**15, w**20, w**25, w**30, w**35],\n",
    "                 [1, w**6, w**12, w**18, w**24, w**30, w**36, w**42],\n",
    "                 [1, w**7, w**14, w**21, w**28, w**35, w**42, w**49]])\n",
    "\n",
    "w4 = np.exp(1.j * 2 * np.pi / 16)\n",
    "Vqft4 = np.array([[w4**(i*j) for i in range(16)] for j in range(16)])\n",
    "\n",
    "w5 = np.exp(1.j * 2 * np.pi / 32)\n",
    "Vqft5 = np.array([[w5**(i*j) for i in range(32)] for j in range(32)])"
   ]
  },
  {
   "cell_type": "markdown",
   "id": "edd625dc",
   "metadata": {},
   "source": [
    "Random initialisation and then plot of fidelities against step"
   ]
  },
  {
   "cell_type": "code",
   "execution_count": 25,
   "id": "55ff6e27",
   "metadata": {},
   "outputs": [
    {
     "name": "stdout",
     "output_type": "stream",
     "text": [
      "[38/1000] [Fidelity = 0.9486233190402964] Omega geodesic gave a negative fidelity update for this step.\n",
      "[75/1000] Solution found!\n",
      "Final fidelity = 0.999025674630178\n",
      "[18/1000] [Fidelity = 0.8287231548531678] Omega geodesic gave a negative fidelity update for this step.\n",
      "[83/1000] Solution found!\n",
      "Final fidelity = 0.9991098311722293\n",
      "[46/1000] [Fidelity = 0.9171660154828953] Omega geodesic gave a negative fidelity update for this step..\n",
      "[95/1000] Solution found!\n",
      "Final fidelity = 0.9990899101989731\n"
     ]
    },
    {
     "data": {
      "image/png": "[encoded data removed]",
      "text/plain": [
       "<Figure size 864x432 with 1 Axes>"
      ]
     },
     "metadata": {
      "needs_background": "light"
     },
     "output_type": "display_data"
    },
    {
     "data": {
      "image/png": "[encoded data removed]",
      "text/plain": [
       "<Figure size 432x288 with 1 Axes>"
      ]
     },
     "metadata": {
      "needs_background": "light"
     },
     "output_type": "display_data"
    },
    {
     "data": {
      "image/png": "[encoded data removed]",
      "text/plain": [
       "<Figure size 1008x432 with 1 Axes>"
      ]
     },
     "metadata": {
      "needs_background": "light"
     },
     "output_type": "display_data"
    }
   ],
   "source": [
    "nqubits=4\n",
    "basis_full = pauli_basis(nqubits)\n",
    "basis_restricted = two_body_restriction_basis(basis_full)\n",
    "num_rand_interations = 3\n",
    "\n",
    "multi_fidelities = []\n",
    "multi_steps = []\n",
    "multi_indices = []\n",
    "for _ in range(num_rand_interations):\n",
    "    steps, fidelities, phis, indices = rand_init_fidelities(Vqft4, basis_full, num_steps=1000, step_size=0.001, update_func=geodesic_direction_update_step, precision=0.999)    \n",
    "    print(f\"Final fidelity = {fidelities[-1]}\")\n",
    "    multi_fidelities.append(fidelities)\n",
    "    multi_steps.append(steps)\n",
    "    multi_indices.append(indices)\n",
    "\n",
    "plot_multi_fidelities(multi_steps, multi_fidelities, title=\"Random initial phis\")\n",
    "plt.hist(multi_indices)\n",
    "plot_parameters(basis_full[\"labels\"],phis[-1])"
   ]
  },
  {
   "cell_type": "code",
   "execution_count": null,
   "id": "0a59dc0f",
   "metadata": {},
   "outputs": [],
   "source": []
  }
 ],
 "metadata": {
  "kernelspec": {
   "display_name": "Python 3",
   "language": "python",
   "name": "python3"
  },
  "language_info": {
   "codemirror_mode": {
    "name": "ipython",
    "version": 3
   },
   "file_extension": ".py",
   "mimetype": "text/x-python",
   "name": "python",
   "nbconvert_exporter": "python",
   "pygments_lexer": "ipython3",
   "version": "3.9.10"
  }
 },
 "nbformat": 4,
 "nbformat_minor": 5
}
